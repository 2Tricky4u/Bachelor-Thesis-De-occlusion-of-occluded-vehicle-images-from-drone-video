{
  "nbformat": 4,
  "nbformat_minor": 0,
  "metadata": {
    "colab": {
      "provenance": []
    },
    "kernelspec": {
      "name": "python3",
      "display_name": "Python 3"
    },
    "language_info": {
      "name": "python"
    },
    "accelerator": "GPU",
    "gpuClass": "standard"
  },
  "cells": [
    {
      "cell_type": "code",
      "source": [
        "from google.colab import drive\n",
        "\n",
        "drive.mount('/content/gdrive')"
      ],
      "metadata": {
        "colab": {
          "base_uri": "https://localhost:8080/"
        },
        "id": "PfgYzO9QyoRX",
        "outputId": "e029d49f-66bf-48f4-d6a8-e5a66dcaf28f"
      },
      "execution_count": null,
      "outputs": [
        {
          "output_type": "stream",
          "name": "stdout",
          "text": [
            "Mounted at /content/gdrive\n"
          ]
        }
      ]
    },
    {
      "cell_type": "code",
      "source": [
        "!nvidia-smi"
      ],
      "metadata": {
        "colab": {
          "base_uri": "https://localhost:8080/"
        },
        "id": "5nUUmD5e0kvC",
        "outputId": "d3231792-2a90-4064-ca01-e47e2200f543"
      },
      "execution_count": null,
      "outputs": [
        {
          "output_type": "stream",
          "name": "stdout",
          "text": [
            "Thu Mar 30 06:20:23 2023       \n",
            "+-----------------------------------------------------------------------------+\n",
            "| NVIDIA-SMI 525.85.12    Driver Version: 525.85.12    CUDA Version: 12.0     |\n",
            "|-------------------------------+----------------------+----------------------+\n",
            "| GPU  Name        Persistence-M| Bus-Id        Disp.A | Volatile Uncorr. ECC |\n",
            "| Fan  Temp  Perf  Pwr:Usage/Cap|         Memory-Usage | GPU-Util  Compute M. |\n",
            "|                               |                      |               MIG M. |\n",
            "|===============================+======================+======================|\n",
            "|   0  Tesla T4            Off  | 00000000:00:04.0 Off |                    0 |\n",
            "| N/A   45C    P8     9W /  70W |      0MiB / 15360MiB |      0%      Default |\n",
            "|                               |                      |                  N/A |\n",
            "+-------------------------------+----------------------+----------------------+\n",
            "                                                                               \n",
            "+-----------------------------------------------------------------------------+\n",
            "| Processes:                                                                  |\n",
            "|  GPU   GI   CI        PID   Type   Process name                  GPU Memory |\n",
            "|        ID   ID                                                   Usage      |\n",
            "|=============================================================================|\n",
            "|  No running processes found                                                 |\n",
            "+-----------------------------------------------------------------------------+\n"
          ]
        }
      ]
    },
    {
      "cell_type": "code",
      "execution_count": null,
      "metadata": {
        "colab": {
          "base_uri": "https://localhost:8080/"
        },
        "id": "t52jkr0tyibI",
        "outputId": "3cc264de-c3ef-4c95-b881-998d60b5e37e"
      },
      "outputs": [
        {
          "output_type": "stream",
          "name": "stdout",
          "text": [
            "/content/gdrive/MyDrive/Colab Notebooks/Image-Quality-Evaluation-Metrics\n"
          ]
        }
      ],
      "source": [
        "cd /content/gdrive/MyDrive/'Colab Notebooks'/Image-Quality-Evaluation-Metrics"
      ]
    },
    {
      "cell_type": "code",
      "source": [
        "pip install piq"
      ],
      "metadata": {
        "colab": {
          "base_uri": "https://localhost:8080/"
        },
        "id": "KXgDrwDeysFc",
        "outputId": "a414bbbe-60f2-4575-b1f3-9b0ad7a06edb"
      },
      "execution_count": null,
      "outputs": [
        {
          "output_type": "stream",
          "name": "stdout",
          "text": [
            "Looking in indexes: https://pypi.org/simple, https://us-python.pkg.dev/colab-wheels/public/simple/\n",
            "Collecting piq\n",
            "  Downloading piq-0.7.0-py3-none-any.whl (139 kB)\n",
            "\u001b[2K     \u001b[90m━━━━━━━━━━━━━━━━━━━━━━━━━━━━━━━━━━━━━━━\u001b[0m \u001b[32m139.5/139.5 KB\u001b[0m \u001b[31m9.4 MB/s\u001b[0m eta \u001b[36m0:00:00\u001b[0m\n",
            "\u001b[?25hRequirement already satisfied: torchvision!=0.9.*,>=0.6.1 in /usr/local/lib/python3.9/dist-packages (from piq) (0.14.1+cu116)\n",
            "Requirement already satisfied: numpy in /usr/local/lib/python3.9/dist-packages (from torchvision!=0.9.*,>=0.6.1->piq) (1.22.4)\n",
            "Requirement already satisfied: typing-extensions in /usr/local/lib/python3.9/dist-packages (from torchvision!=0.9.*,>=0.6.1->piq) (4.5.0)\n",
            "Requirement already satisfied: torch==1.13.1 in /usr/local/lib/python3.9/dist-packages (from torchvision!=0.9.*,>=0.6.1->piq) (1.13.1+cu116)\n",
            "Requirement already satisfied: pillow!=8.3.*,>=5.3.0 in /usr/local/lib/python3.9/dist-packages (from torchvision!=0.9.*,>=0.6.1->piq) (8.4.0)\n",
            "Requirement already satisfied: requests in /usr/local/lib/python3.9/dist-packages (from torchvision!=0.9.*,>=0.6.1->piq) (2.27.1)\n",
            "Requirement already satisfied: urllib3<1.27,>=1.21.1 in /usr/local/lib/python3.9/dist-packages (from requests->torchvision!=0.9.*,>=0.6.1->piq) (1.26.15)\n",
            "Requirement already satisfied: charset-normalizer~=2.0.0 in /usr/local/lib/python3.9/dist-packages (from requests->torchvision!=0.9.*,>=0.6.1->piq) (2.0.12)\n",
            "Requirement already satisfied: certifi>=2017.4.17 in /usr/local/lib/python3.9/dist-packages (from requests->torchvision!=0.9.*,>=0.6.1->piq) (2022.12.7)\n",
            "Requirement already satisfied: idna<4,>=2.5 in /usr/local/lib/python3.9/dist-packages (from requests->torchvision!=0.9.*,>=0.6.1->piq) (3.4)\n",
            "Installing collected packages: piq\n",
            "Successfully installed piq-0.7.0\n"
          ]
        }
      ]
    },
    {
      "cell_type": "code",
      "source": [
        "!python main.py"
      ],
      "metadata": {
        "colab": {
          "base_uri": "https://localhost:8080/"
        },
        "id": "-JOzSfLKy5TN",
        "outputId": "2288d20d-cbfa-4498-ce1f-2124570036c2"
      },
      "execution_count": null,
      "outputs": [
        {
          "output_type": "stream",
          "name": "stdout",
          "text": [
            "#====================================================================================================#\n",
            "#                                Common Image Evaluation Metrics                                     #\n",
            "#====================================================================================================#\n",
            "# Implementation of Common Image Evaluation Metrics by Sayed Nadim (sayednadim.github.io)            #\n",
            "# The repo is built based on full reference image quality metrics such as L1, L2, PSNR, SSIM, LPIPS. #\n",
            "# and feature-level quality metrics such as FID, IS. It can be used for evaluating image denoising,  #\n",
            "# colorization, inpainting, deraining, dehazing etc. supervised tasks.                               #\n",
            "#====================================================================================================#\n",
            "Configuration\n",
            "================================================================================\n",
            "dataset_name: car256\n",
            "dataset_with_subfolders: False\n",
            "dataset_format: image\n",
            "multiple_evaluation: False\n",
            "generated_image_path: ./data/AOT_big/patch/1\n",
            "ground_truth_image_path: ./data/GT/patch_big/1\n",
            "return_dataset_name: False\n",
            "exp_type: ablation\n",
            "model_name: difnet\n",
            "batch_size: 1\n",
            "image_shape: [256, 256, 3]\n",
            "random_crop: False\n",
            "threads: 4\n",
            "print_interval_frequency: 1\n",
            "show_config: True\n",
            "save_results: True\n",
            "save_results_path: ./logs\n",
            "save_file_name: metrics\n",
            "save_type: csv\n",
            "================================================================================\n",
            "Dataset Statistics - Total 2 images found.\n",
            "================================================================================\n",
            "Calculating image-level inpainting metrics. Please wait till the progress bar in 100%.\n",
            "================================================================================\n",
            "100% 2/2 [00:04<00:00,  2.12s/it]\n",
            "================================================================================\n",
            "Computing feature-level inpainting metrics. Please wait. It may take some moment.\n",
            "================================================================================\n",
            "WARNING: default feature extractor (InceptionNet V2) is used.\n",
            "WARNING: default feature extractor (InceptionNet V2) is used.\n",
            "FID calculation produces singular product; adding 1e-06 to diagonal of cov estimates\n",
            "================================================================================\n",
            "\n",
            "Finished in 36.584000s.\n",
            "\n",
            "================================================================================\n",
            "Evaluation Results\n",
            "l1: 0.16681328415870667\n",
            "l2: 0.0633222758769989\n",
            "ssim: 0.4957243800163269\n",
            "psnr: 11.984435081481934\n",
            "lpips: 2.734710693359375\n",
            "fid: -0.004095999999845612\n",
            "================================================================================\n",
            "\n",
            "Saved metric in ./logs.\n",
            "\n",
            "\n",
            "\n",
            "================================================================================\n",
            "Done with evaluation.\n",
            "\n",
            "\n"
          ]
        }
      ]
    },
    {
      "cell_type": "code",
      "source": [],
      "metadata": {
        "id": "Q34EcM7z1RyK"
      },
      "execution_count": null,
      "outputs": []
    }
  ]
}